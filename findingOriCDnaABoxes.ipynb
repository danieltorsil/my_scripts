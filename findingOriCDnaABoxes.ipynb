{
 "cells": [
  {
   "cell_type": "markdown",
   "metadata": {},
   "source": [
    "## **Finding origin of replication and DnaA boxes**"
   ]
  },
  {
   "cell_type": "markdown",
   "metadata": {},
   "source": [
    "In most bacteria and some Archaea, leading strand contains more guanine whereas the lagging strand contains more cytosine (Lobry, 1996), due to the asymmetric nature of the replication process whick causes more mutations in one strand as compared to the other (Tillier and Collins, 2000). Deamination of cytosine and ultimately mutation of cytosine to thymine in one DNA strand can increase the relative number of guanine and thymine to cytosine and adenine.\n",
    "\n",
    "That's the reason why the difference between G and C content (G - C) is positive in the leading strand and negative in the lagging strand, so it is expected to see a switch in this difference sign just at the point of DNA replication origin and terminus. So we can take profit of this to find where are these origin and terminus of replication of a given bacteria genome."
   ]
  },
  {
   "cell_type": "markdown",
   "metadata": {},
   "source": [
    "First, we import all required libraries and packages:"
   ]
  },
  {
   "cell_type": "code",
   "execution_count": 2,
   "metadata": {},
   "outputs": [],
   "source": [
    "import numpy as np\n",
    "import matplotlib.pyplot as plt\n",
    "from selenium import webdriver\n",
    "import time"
   ]
  },
  {
   "cell_type": "markdown",
   "metadata": {},
   "source": [
    "Now we import the FASTA sequence from the NCBI url. For example, we'll use Salmonella enterica genome from https://www.ncbi.nlm.nih.gov/nuccore/AL513382.1?report=fasta:"
   ]
  },
  {
   "cell_type": "code",
   "execution_count": 3,
   "metadata": {},
   "outputs": [],
   "source": [
    "url='https://www.ncbi.nlm.nih.gov/nuccore/AL513382.1?report=fasta'\n",
    "\n",
    "def importFastaSeq(url):\n",
    "    search_string=''\n",
    "    \n",
    "    options = webdriver.ChromeOptions()\n",
    "    options.add_argument('--ignore-certificate-errors')\n",
    "    options.add_argument(\"--start-minimized\")\n",
    "\n",
    "\n",
    "    driver = webdriver.Chrome(options=options)\n",
    "    driver.delete_all_cookies()\n",
    "    driver.get(url)\n",
    "    time.sleep(30)\n",
    "    fastaSeq=driver.find_element_by_xpath('//*[@id=\"viewercontent1\"]').text\n",
    "    fastaSeq=''.join(fastaSeq.split('\\n')[1:])\n",
    "    driver.close()\n",
    "    return fastaSeq\n",
    "\n",
    "sequence=importFastaSeq(url=url)"
   ]
  },
  {
   "cell_type": "markdown",
   "metadata": {},
   "source": [
    "We plot cumulative GC differences to see if there's a switch and which is the position with this difference is minimum:"
   ]
  },
  {
   "cell_type": "code",
   "execution_count": 4,
   "metadata": {},
   "outputs": [
    {
     "data": {
      "image/png": "[encoded data removed]",
      "text/plain": [
       "<Figure size 432x288 with 1 Axes>"
      ]
     },
     "metadata": {
      "needs_background": "light"
     },
     "output_type": "display_data"
    },
    {
     "name": "stdout",
     "output_type": "stream",
     "text": [
      "Position with minimum difference between number of G and number of C is 3764856\n"
     ]
    }
   ],
   "source": [
    "def plottingGCdiffs(sequence):\n",
    "    numC=0\n",
    "    numG=0\n",
    "    diffsGC=[]=[]\n",
    "    minDiff=100000\n",
    "    posMinDiff=0\n",
    "    for i in np.arange(len(sequence)-1):\n",
    "        if sequence[i]=='C':\n",
    "            numC+=1\n",
    "        elif sequence[i]=='G':\n",
    "            numG+=1\n",
    "        diffGC=numG-numC\n",
    "        diffsGC.append(diffGC)\n",
    "        if diffGC<minDiff:\n",
    "            minDiff=diffGC\n",
    "            posMinDiff=i+1\n",
    "    \n",
    "    plt.plot(diffsGC)\n",
    "    plt.show()\n",
    "    \n",
    "    return minDiff,posMinDiff\n",
    "\n",
    "minDiff, posMinDiff = plottingGCdiffs(sequence=sequence)\n",
    "print('Position with minimum difference between number of G and number of C is {}'.format(posMinDiff))"
   ]
  },
  {
   "cell_type": "markdown",
   "metadata": {},
   "source": [
    "### Finding DnaA boxes"
   ]
  },
  {
   "cell_type": "markdown",
   "metadata": {},
   "source": [
    "DNA replication in bacteria is activated with binding of DnaA protein to 9-mer (9-bp) repeats upstream of oriC or DnaA boxes. Once we have estimated oriC position, we can search repeat 9-mers surrounding this area (including reverse complement and mismatches caused by mutations which don't affect DnaA protein binding):"
   ]
  },
  {
   "cell_type": "code",
   "execution_count": 26,
   "metadata": {},
   "outputs": [
    {
     "name": "stdout",
     "output_type": "stream",
     "text": [
      "['GCGGCGCCG', 'CCGGCGCCG', 'CGGCGCCGA', 'TTCCGGAAT', 'ACGGCGCCG', 'TCGGCGCCG', 'CGGCGCCGG', 'ATTCCGGAA', 'CGGCGCCGT', 'CGGCGCCGC']\n"
     ]
    }
   ],
   "source": [
    "windowSize=500\n",
    "kmerSize=9\n",
    "kmers=[]\n",
    "\n",
    "oriCsequence=sequence[int(posMinDiff-windowSize/2):int(posMinDiff+1+windowSize/2)]\n",
    "reversedComplementSequence=''\n",
    "for nuc in oriCsequence[::-1]:\n",
    "    if nuc=='A':\n",
    "        reversedComplementSequence+='T'\n",
    "    elif nuc=='T':\n",
    "        reversedComplementSequence+='A'\n",
    "    elif nuc=='C':\n",
    "        reversedComplementSequence+='G'\n",
    "    elif nuc=='G':\n",
    "        reversedComplementSequence+='C'\n",
    "\n",
    "for i in np.arange(len(oriCsequence)):\n",
    "    kmer=oriCsequence[i:i+kmerSize]\n",
    "    kmers.append(kmer)\n",
    "    kmer=reversedComplementSequence[i:i+kmerSize]\n",
    "    kmers.append(kmer)\n",
    "    \n",
    "def kmersWithMismatchesDict(kmers,kmerSize,maxNumMismatchesAllowed):\n",
    "    kmersUnique=list(set(kmers))\n",
    "    dictKmersWithMismatches={}\n",
    "    for kmer in kmersUnique:\n",
    "        dictKmersWithMismatches[kmer]=[]  \n",
    "    for kmer1 in kmersUnique:\n",
    "        for kmer2 in kmers:  \n",
    "            if len(kmer1)==kmerSize and len(kmer2)==kmerSize:\n",
    "                count=0\n",
    "                for i in np.arange(kmerSize):\n",
    "\n",
    "                    if kmer1[i]!=kmer2[i]:\n",
    "                        count+=1\n",
    "                if count<=maxNumMismatchesAllowed:\n",
    "                    dictKmersWithMismatches[kmer1].append(kmer2)\n",
    "    return dictKmersWithMismatches\n",
    "\n",
    "#Allowing 1 mismatch:\n",
    "kmersWithMismatches=(kmersWithMismatchesDict(kmers,9,1))\n",
    "\n",
    "def mostFreqKmerWithMismatches(dictKmers):\n",
    "    mostFreqKmers={}\n",
    "    casesMostFreqKmer=0\n",
    "    for kmer,cases in dictKmers.items():\n",
    "        cases=len(cases)-1\n",
    "        if cases>casesMostFreqKmer:\n",
    "            mostFreqKmers={}\n",
    "            mostFreqKmers[kmer]=dictKmers[kmer]\n",
    "            casesMostFreqKmer=cases\n",
    "        if cases==casesMostFreqKmer:\n",
    "            mostFreqKmers[kmer]=dictKmers[kmer]\n",
    "            casesMostFreqKmer=cases\n",
    "    return mostFreqKmers\n",
    "\n",
    "DnaAboxes=list(mostFreqKmerWithMismatches(kmersWithMismatches).keys())\n",
    "print(DnaAboxes)"
   ]
  },
  {
   "cell_type": "markdown",
   "metadata": {},
   "source": [
    "So this list of 9-mers can be DnaA boxes in Salmonella enterica genome. Obviously this has to be experimentally confirmed. "
   ]
  }
 ],
 "metadata": {
  "kernelspec": {
   "display_name": "Python 3",
   "language": "python",
   "name": "python3"
  },
  "language_info": {
   "codemirror_mode": {
    "name": "ipython",
    "version": 3
   },
   "file_extension": ".py",
   "mimetype": "text/x-python",
   "name": "python",
   "nbconvert_exporter": "python",
   "pygments_lexer": "ipython3",
   "version": "3.8.5"
  }
 },
 "nbformat": 4,
 "nbformat_minor": 4
}
