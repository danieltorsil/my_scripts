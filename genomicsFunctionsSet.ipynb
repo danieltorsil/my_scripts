{
 "cells": [
  {
   "cell_type": "markdown",
   "metadata": {},
   "source": [
    "# **Some genomics functions**"
   ]
  },
  {
   "cell_type": "markdown",
   "metadata": {},
   "source": [
    "Here I show some of genomic functions I frequently use:"
   ]
  },
  {
   "cell_type": "markdown",
   "metadata": {},
   "source": [
    "## Genetic code"
   ]
  },
  {
   "cell_type": "markdown",
   "metadata": {},
   "source": [
    "Returns dictionary with standard Genetic Code. If ThreeLet is not explicited the amino acid format will be one-letter code (e.g. M, T, N); if ThreeLet=True the amino acid format will be three-letter code (e.g. Met, Thr, Asn)."
   ]
  },
  {
   "cell_type": "code",
   "execution_count": 5,
   "metadata": {},
   "outputs": [
    {
     "data": {
      "text/plain": [
       "{'UUU': 'F',\n",
       " 'UUC': 'F',\n",
       " 'UUA': 'L',\n",
       " 'UUG': 'L',\n",
       " 'UCU': 'S',\n",
       " 'UCC': 'S',\n",
       " 'UCA': 'S',\n",
       " 'UCG': 'S',\n",
       " 'UAU': 'Y',\n",
       " 'UAC': 'Y',\n",
       " 'UAA': None,\n",
       " 'UAG': None,\n",
       " 'UGU': 'C',\n",
       " 'UGC': 'C',\n",
       " 'UGA': None,\n",
       " 'UGG': 'W',\n",
       " 'CUU': 'L',\n",
       " 'CUC': 'L',\n",
       " 'CUA': 'L',\n",
       " 'CUG': 'L',\n",
       " 'CCU': 'P',\n",
       " 'CCC': 'P',\n",
       " 'CCA': 'P',\n",
       " 'CCG': 'P',\n",
       " 'CAU': 'H',\n",
       " 'CAC': 'H',\n",
       " 'CAA': 'Q',\n",
       " 'CAG': 'Q',\n",
       " 'CGU': 'R',\n",
       " 'CGC': 'R',\n",
       " 'CGA': 'R',\n",
       " 'CGG': 'R',\n",
       " 'AUU': 'I',\n",
       " 'AUC': 'I',\n",
       " 'AUA': 'I',\n",
       " 'AUG': 'M',\n",
       " 'ACU': 'T',\n",
       " 'ACC': 'T',\n",
       " 'ACA': 'T',\n",
       " 'ACG': 'T',\n",
       " 'AAU': 'N',\n",
       " 'AAC': 'N',\n",
       " 'AAA': 'K',\n",
       " 'AAG': 'K',\n",
       " 'AGU': 'S',\n",
       " 'AGC': 'S',\n",
       " 'AGA': 'R',\n",
       " 'AGG': 'R',\n",
       " 'GUU': 'V',\n",
       " 'GUC': 'V',\n",
       " 'GUA': 'V',\n",
       " 'GUG': 'V',\n",
       " 'GCU': 'A',\n",
       " 'GCC': 'A',\n",
       " 'GCA': 'A',\n",
       " 'GCG': 'A',\n",
       " 'GAU': 'D',\n",
       " 'GAC': 'D',\n",
       " 'GAA': 'E',\n",
       " 'GAG': 'E',\n",
       " 'GGU': 'G',\n",
       " 'GGC': 'G',\n",
       " 'GGA': 'G',\n",
       " 'GGG': 'G'}"
      ]
     },
     "execution_count": 5,
     "metadata": {},
     "output_type": "execute_result"
    }
   ],
   "source": [
    "def geneticCode(ThreeLet=False):\n",
    "    GeneticCode={'UUU':'F', 'UUC':'F', 'UUA':'L', 'UUG':'L', \n",
    "                 'UCU':'S', 'UCC':'S', 'UCA':'S', 'UCG':'S', \n",
    "                 'UAU':'Y', 'UAC':'Y', 'UAA':None, 'UAG':None, \n",
    "                 'UGU':'C', 'UGC':'C', 'UGA':None, 'UGG':'W', \n",
    "                 'CUU':'L', 'CUC':'L', 'CUA':'L', 'CUG':'L',\n",
    "                 'CCU':'P', 'CCC':'P', 'CCA':'P', 'CCG':'P',\n",
    "                 'CAU':'H', 'CAC':'H', 'CAA':'Q', 'CAG':'Q',\n",
    "                 'CGU':'R', 'CGC':'R', 'CGA':'R', 'CGG':'R',\n",
    "                 'AUU':'I', 'AUC':'I', 'AUA':'I', 'AUG':'M',\n",
    "                 'ACU':'T', 'ACC':'T', 'ACA':'T', 'ACG':'T',\n",
    "                 'AAU':'N', 'AAC':'N', 'AAA':'K', 'AAG':'K',\n",
    "                 'AGU':'S', 'AGC':'S', 'AGA':'R', 'AGG':'R',\n",
    "                 'GUU':'V', 'GUC':'V', 'GUA':'V', 'GUG':'V',\n",
    "                 'GCU':'A', 'GCC':'A', 'GCA':'A', 'GCG':'A',\n",
    "                 'GAU':'D', 'GAC':'D', 'GAA':'E', 'GAG':'E',\n",
    "                 'GGU':'G', 'GGC':'G', 'GGA':'G', 'GGG':'G'}\n",
    "    if ThreeLet==True:\n",
    "        aa={'Q': 'Gln', 'F': 'Phe', 'P': 'Pro', 'Y': 'Tyr', 'L': 'Leu', \n",
    "            'H': 'His', 'C': 'Cys', 'E': 'Glu', 'D': 'Asp', 'A': 'Ala', \n",
    "            'W': 'Trp', 'G': 'Gly', 'V': 'Val', 'R': 'Arg', 'T': 'Thr', \n",
    "            'N': 'Asn', 'K': 'Lys', 'M': 'Met', 'S': 'Ser', 'I': 'Ile'}\n",
    "        for k,v in GeneticCode.items():\n",
    "            if v==None:\n",
    "                GeneticCode[k]=None\n",
    "            else:\n",
    "                GeneticCode[k]=aa[v]\n",
    "    return GeneticCode\n",
    "\n",
    "geneticCode()"
   ]
  },
  {
   "cell_type": "markdown",
   "metadata": {},
   "source": [
    "## Protein translation"
   ]
  },
  {
   "cell_type": "markdown",
   "metadata": {},
   "source": [
    "It translates a nucleic acid sequence (RNA or a converted DNA) into a protein sequence until the end of sequence or until a stop codon."
   ]
  },
  {
   "cell_type": "code",
   "execution_count": 8,
   "metadata": {},
   "outputs": [
    {
     "data": {
      "text/plain": [
       "'IECS'"
      ]
     },
     "execution_count": 8,
     "metadata": {},
     "output_type": "execute_result"
    }
   ],
   "source": [
    "def proteinTranslation(seq):\n",
    "    '''it translates a nucleic acid sequence (RNA or a converted DNA) into a protein sequence until the end of sequence\n",
    "    or until a stop codon'''\n",
    "    genCode=geneticCode()\n",
    "    RNAseq=seq.replace('T','U')\n",
    "    i=0\n",
    "    lproteinSeq=[]\n",
    "    while i<(len(RNAseq)-2):\n",
    "        codon=RNAseq[i:i+3]\n",
    "        if genCode[codon]==None:\n",
    "            break\n",
    "        lproteinSeq.append(genCode[codon])\n",
    "        i+=3\n",
    "    proteinSeq=''.join(lproteinSeq)\n",
    "    return proteinSeq\n",
    "\n",
    "proteinTranslation('ATTGAATGTTCA')"
   ]
  },
  {
   "cell_type": "markdown",
   "metadata": {},
   "source": [
    "## Molecular mass\n",
    "\n",
    "It calculates the molecular mass of a DNA/RNA/protein sequence assuming normal isotopic ratios and protonation/modification states.\n"
   ]
  },
  {
   "cell_type": "code",
   "execution_count": 10,
   "metadata": {},
   "outputs": [
    {
     "data": {
      "text/plain": [
       "432.43"
      ]
     },
     "execution_count": 10,
     "metadata": {},
     "output_type": "execute_result"
    }
   ],
   "source": [
    "def molecularMass(seq,molType='protein'):\n",
    "    if molType not in ['DNA','RNA','protein']:\n",
    "        import sys\n",
    "        print('Second argument (molType) must be \\'DNA\\',\\'RNA\\' or \\'protein\\'\\nExample: molecularMass(seq=\\'IRRMI\\', molType=\\'protein\\')')\n",
    "        sys.exit()\n",
    "    molMasses={ \n",
    "            'DNA':{'A':323.21,'C':289.18,'G':329.21,'T':304.19},\n",
    "            'RNA':{'A':329.21,'C':305.18,'G':345.21,'U':302.6},\n",
    "            'protein':{'A': 71.07, 'C': 103.10, 'D': 115.08, 'E': 129.11, 'F': 147.17, \n",
    "                       'G': 57.05, 'H': 137.14, 'I': 113.15, 'K': 128.17, 'L': 113.15,\n",
    "                       'M': 131.19, 'N': 114.08, 'P': 97.11, 'Q': 128.13, 'R': 156.18,\n",
    "                       'S': 87.07, 'T': 101.1, 'V': 99.13, 'W': 186.20, 'Y': 163.17}}\n",
    "    molMass=0\n",
    "    lunknown=[]\n",
    "    for let in seq:\n",
    "        if let not in molMasses[molType]:\n",
    "            lunknown.append(let)\n",
    "        else:\n",
    "            molMass+=molMasses[molType][let]\n",
    "    if lunknown:\n",
    "        for let in set(lunknown):\n",
    "            numLet=lunknown.count(let)\n",
    "            print('Unknown residue mass of \\''+let+'\\'')\n",
    "            letMass=float(input('Input residue mass of \\''+let+'\\' if you know it (otherwise, input \\'0\\' and this residue will not be taken into account in final calculation): '))\n",
    "            if letMass==0:\n",
    "                print('The number of times residue \\''+let+'\\' appears in sequence is',numLet,'\\n')\n",
    "            numLet=lunknown.count(let)\n",
    "            molMass+=letMass*numLet        \n",
    "    return round(molMass,4)\n",
    "\n",
    "molecularMass('IECS')"
   ]
  },
  {
   "cell_type": "markdown",
   "metadata": {},
   "source": [
    "## GC content"
   ]
  },
  {
   "cell_type": "markdown",
   "metadata": {},
   "source": [
    "Regions of a chromosome with high levels of nucleotides G and C frequently corresponds to gene regions. This function calculates this GC contents in a entire input seq or in windows of this input seq of our desired size (input in variable 'window'). In addition, we can visualize the evolution of GC contents of these subsequences (if variable 'view' is True)."
   ]
  },
  {
   "cell_type": "code",
   "execution_count": 55,
   "metadata": {},
   "outputs": [
    {
     "data": {
      "image/png": "[encoded data removed]",
      "text/plain": [
       "<Figure size 432x288 with 1 Axes>"
      ]
     },
     "metadata": {
      "needs_background": "light"
     },
     "output_type": "display_data"
    },
    {
     "data": {
      "text/plain": [
       "({'AGTTTATGTA': 0.2,\n",
       "  'GTTTATGTAG': 0.3,\n",
       "  'TTTATGTAGT': 0.2,\n",
       "  'TTATGTAGTT': 0.2,\n",
       "  'TATGTAGTTG': 0.3,\n",
       "  'ATGTAGTTGT': 0.3,\n",
       "  'TGTAGTTGTT': 0.3,\n",
       "  'GTAGTTGTTA': 0.3,\n",
       "  'TAGTTGTTAT': 0.2,\n",
       "  'AGTTGTTATG': 0.3,\n",
       "  'GTTGTTATGA': 0.3,\n",
       "  'TTGTTATGAT': 0.2,\n",
       "  'TGTTATGATG': 0.3,\n",
       "  'GTTATGATGC': 0.4,\n",
       "  'TTATGATGCT': 0.3,\n",
       "  'TATGATGCTA': 0.3,\n",
       "  'ATGATGCTAT': 0.3,\n",
       "  'TGATGCTATT': 0.3,\n",
       "  'GATGCTATTA': 0.3,\n",
       "  'ATGCTATTAC': 0.3,\n",
       "  'TGCTATTACC': 0.4,\n",
       "  'GCTATTACCA': 0.4,\n",
       "  'CTATTACCAT': 0.3,\n",
       "  'TATTACCATT': 0.2,\n",
       "  'ATTACCATTG': 0.3,\n",
       "  'TTACCATTGT': 0.3,\n",
       "  'TACCATTGTA': 0.3,\n",
       "  'ACCATTGTAA': 0.3,\n",
       "  'CCATTGTAAC': 0.4,\n",
       "  'CATTGTAACC': 0.4,\n",
       "  'ATTGTAACCA': 0.3,\n",
       "  'TTGTAACCAT': 0.3,\n",
       "  'TGTAACCATG': 0.4,\n",
       "  'GTAACCATGT': 0.4,\n",
       "  'TAACCATGTG': 0.4,\n",
       "  'AACCATGTGA': 0.4,\n",
       "  'ACCATGTGAC': 0.5,\n",
       "  'CCATGTGACC': 0.6,\n",
       "  'CATGTGACCG': 0.6,\n",
       "  'ATGTGACCGT': 0.5,\n",
       "  'TGTGACCGTG': 0.6,\n",
       "  'GTGACCGTGG': 0.7,\n",
       "  'TGACCGTGGC': 0.7,\n",
       "  'GACCGTGGCC': 0.8,\n",
       "  'ACCGTGGCCG': 0.8,\n",
       "  'CCGTGGCCGT': 0.8,\n",
       "  'CGTGGCCGTG': 0.8,\n",
       "  'GTGGCCGTGG': 0.8,\n",
       "  'TGGCCGTGGC': 0.8,\n",
       "  'GGCCGTGGCG': 0.9,\n",
       "  'GCCGTGGCGT': 0.8,\n",
       "  'CCGTGGCGTG': 0.8,\n",
       "  'CGTGGCGTGG': 0.8,\n",
       "  'GTGGCGTGGC': 0.8,\n",
       "  'TGGCGTGGCA': 0.7,\n",
       "  'GGCGTGGCAT': 0.7,\n",
       "  'GCGTGGCATG': 0.7,\n",
       "  'CGTGGCATGG': 0.7,\n",
       "  'GTGGCATGGC': 0.7,\n",
       "  'TGGCATGGCG': 0.7,\n",
       "  'GGCATGGCGA': 0.7,\n",
       "  'GCATGGCGAC': 0.7,\n",
       "  'CATGGCGACT': 0.6,\n",
       "  'ATGGCGACTC': 0.6,\n",
       "  'TGGCGACTCG': 0.7,\n",
       "  'GGCGACTCGT': 0.7,\n",
       "  'GCGACTCGTC': 0.7,\n",
       "  'CGACTCGTCC': 0.7,\n",
       "  'GACTCGTCCG': 0.7,\n",
       "  'ACTCGTCCGC': 0.7,\n",
       "  'CTCGTCCGCC': 0.8,\n",
       "  'TCGTCCGCCG': 0.8,\n",
       "  'CGTCCGCCGA': 0.8,\n",
       "  'GTCCGCCGAG': 0.8,\n",
       "  'TCCGCCGAGT': 0.7,\n",
       "  'CCGCCGAGTT': 0.7,\n",
       "  'CGCCGAGTTT': 0.6,\n",
       "  'GCCGAGTTTA': 0.5,\n",
       "  'CCGAGTTTAT': 0.4,\n",
       "  'CGAGTTTATG': 0.4,\n",
       "  'GAGTTTATGT': 0.3},\n",
       " 'GGCCGTGGCG',\n",
       " 0.9)"
      ]
     },
     "execution_count": 55,
     "metadata": {},
     "output_type": "execute_result"
    }
   ],
   "source": [
    "def gcContent(seq,window=False,view=False):\n",
    "    if window==False:\n",
    "        window=len(seq)\n",
    "    lGcContent=[]\n",
    "    scoreGC=0\n",
    "    mostGC=''\n",
    "    dictKmersGC={}\n",
    "    for i in range(len(seq)-window+1):\n",
    "        kmer=seq[i:i+window]\n",
    "        numGC=kmer.count('C')+kmer.count('G')\n",
    "        propGC=float(numGC/len(kmer))\n",
    "        lGcContent.append(round(propGC,3))\n",
    "        dictKmersGC[kmer]=round(propGC,3)\n",
    "        if propGC>scoreGC:\n",
    "            scoreGC=propGC\n",
    "            mostGC=kmer\n",
    "    if view==True:\n",
    "        from matplotlib import pyplot as plt\n",
    "        plt.plot(lGcContent)\n",
    "        plt.show()\n",
    "    return dictKmersGC,mostGC,round(scoreGC,3)\n",
    "    #lGcContent is a list with GC contents of each window considerated\n",
    "    #mostGC is kmer with the biggest GC content\n",
    "    #scoreGC is mostGC GC content\n",
    "\n",
    "gcContent('AGTTTATGTAGTTGTTATGATGCTATTACCATTGTAACCATGTGACCGTGGCCGTGGCGTGGCATGGCGACTCGTCCGCCGAGTTTATGTAGTTGTTATGATGCTATTA',window=10,view=True)"
   ]
  },
  {
   "cell_type": "markdown",
   "metadata": {},
   "source": [
    "In this example, the most probable gene region starts at position 40 and ends at 80"
   ]
  }
 ],
 "metadata": {
  "kernelspec": {
   "display_name": "Python 3",
   "language": "python",
   "name": "python3"
  },
  "language_info": {
   "codemirror_mode": {
    "name": "ipython",
    "version": 3
   },
   "file_extension": ".py",
   "mimetype": "text/x-python",
   "name": "python",
   "nbconvert_exporter": "python",
   "pygments_lexer": "ipython3",
   "version": "3.8.5"
  }
 },
 "nbformat": 4,
 "nbformat_minor": 4
}
